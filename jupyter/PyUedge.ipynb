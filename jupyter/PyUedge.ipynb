{
 "cells": [
  {
   "cell_type": "markdown",
   "metadata": {},
   "source": [
    "# PyUedge Jupyter Notebook\n"
   ]
  },
  {
   "cell_type": "markdown",
   "metadata": {},
   "source": [
    "### This notebook is to help get users started using the Python version of UEDGE."
   ]
  },
  {
   "cell_type": "markdown",
   "metadata": {},
   "source": [
    "Start off by importing uedge. If installed you should see the CVS tag for your installed version. Note that because of the method used to bind the compiled fortran code to Python, the variables and functions contained within the packages is hidden. (To execute code blocks select and then type control-return)\n"
   ]
  },
  {
   "cell_type": "code",
   "execution_count": null,
   "metadata": {
    "scrolled": true
   },
   "outputs": [],
   "source": [
    "from uedge import *\n",
    "print bbb.uedge_ver\n",
    "print dir(bbb)\n",
    "from case_setup import *         # sets up sizing variables and allocate space for case, provided for illustration"
   ]
  },
  {
   "cell_type": "markdown",
   "metadata": {},
   "source": [
    "If the previous cell fails uncomment the the following cell (remove the #) and run."
   ]
  },
  {
   "cell_type": "code",
   "execution_count": null,
   "metadata": {
    "scrolled": true
   },
   "outputs": [],
   "source": [
    "! #pip install uedge --upgrade"
   ]
  },
  {
   "cell_type": "markdown",
   "metadata": {},
   "source": [
    "As of this version most of PyUedge cases are translated from ones originally run with the Basis version of the code. Because of this it is worth a short description of issues encountered doing this conversion."
   ]
  },
  {
   "cell_type": "markdown",
   "metadata": {},
   "source": [
    "There are a few differences between the Python and Basis environments the user must be aware of.\n",
    "\n",
    "1. Python variables must reference the package while Basis has a priority based namespace. In Basis uedge_ver can be used without specifying \"bbb\" while in Python the package is required as in bbb.uedge_ver. To convert an existing Basis script start by using the application \"__bas2py__ basis_file python_file\" to get started. This will add the package references for you. \n",
    "1. Basis arrays may have variable index start or stop values. Basis variables start at 1 and use parentheses; Python variables always start at 0 and uses square brackets. If values assigned are indices then they should probably follow Fortran rules: start with 1 and row major.\n",
    "    - nxleg(1,1)=4 # basis\n",
    "        - com.nxleg[1,]=[12,10] # python\n",
    "    - kelighi(igsp) = 5.e-16 # basis\n",
    "        - bbb.kelighi[bbb.igsp-1] = 5.e-16    # python\n",
    "    - Basis initialization with do-loop (Note that index ranges are both ends inclusive. (1:3) is 1,2,3)\n",
    "```fortran\n",
    "  do ijk = nhsp+1, nhsp+6\n",
    "      difniv(0:ny+1,ijk) = pd\n",
    "  enddo \n",
    "```\n",
    "    - Python initialization with for-loop (Note that index ranges are only left side inclusive. [1:4] is 1,2,3)\n",
    "```python\n",
    "for ijk in arange(com.nhsp,com.nhsp+6):\n",
    "   bbb.difniv[0:com.ny+2,ijk] = pd\n",
    "```\n",
    "\n",
    "\n"
   ]
  },
  {
   "cell_type": "markdown",
   "metadata": {},
   "source": [
    "# Save/Restore"
   ]
  },
  {
   "cell_type": "markdown",
   "metadata": {},
   "source": [
    "## PDB (PFB) Files - The Basis save file format."
   ]
  },
  {
   "cell_type": "markdown",
   "metadata": {},
   "source": [
    "This requires that the pact python module has been installed . This is supported on a limited number of systems. The GA cluster Iris and the LLNL cluster Singe are the main platforms that support this."
   ]
  },
  {
   "cell_type": "code",
   "execution_count": null,
   "metadata": {
    "scrolled": true
   },
   "outputs": [],
   "source": [
    "try:\n",
    "    from uedge.pdb_restore import * # if this fails pact is likely not installed\n",
    "    pdb_restore('d3d.pdb')          # variable tgs is not included, no error\n",
    "    \n",
    "except:\n",
    "    print \"pact not installed?\"\n",
    "    \n",
    "    "
   ]
  },
  {
   "cell_type": "markdown",
   "metadata": {},
   "source": [
    "## HDF5 Files - The Python save file format."
   ]
  },
  {
   "cell_type": "markdown",
   "metadata": {},
   "source": [
    "This requires that the h5py python module has been installed. This is part of the Anaconda distribution."
   ]
  },
  {
   "cell_type": "code",
   "execution_count": null,
   "metadata": {
    "scrolled": true
   },
   "outputs": [],
   "source": [
    "try:\n",
    "    from uedge.hdf5 import *        # if this fails h5py is likely not installed\n",
    "    hdf5_restore('d3d.hdf5')        # variable tgs is not included and don't worry aroub \"Old style\" file\n",
    "    \n",
    "except:\n",
    "    print \"h5py not installed?\"\n",
    "    \n",
    "    "
   ]
  },
  {
   "cell_type": "markdown",
   "metadata": {},
   "source": [
    "## Run a case"
   ]
  },
  {
   "cell_type": "markdown",
   "metadata": {},
   "source": [
    "- Basis - exmain\n",
    "- Python - bbb.exmain()\n"
   ]
  },
  {
   "cell_type": "code",
   "execution_count": null,
   "metadata": {
    "scrolled": true
   },
   "outputs": [],
   "source": [
    "bbb.exmain()   # \n",
    "print \"Usual iteration output should be in terminal window running Jupyter Notebook\"\n",
    "print \"nksol ---  iterm = \",bbb.iterm"
   ]
  },
  {
   "cell_type": "markdown",
   "metadata": {},
   "source": [
    "# Plotting"
   ]
  },
  {
   "cell_type": "markdown",
   "metadata": {},
   "source": [
    "### Plot the Mesh"
   ]
  },
  {
   "cell_type": "code",
   "execution_count": null,
   "metadata": {
    "scrolled": false
   },
   "outputs": [],
   "source": [
    "from uedge.uedgeplots import *\n",
    "import warnings\n",
    "warnings.filterwarnings(\"ignore\") # ignore warnings for this notebook\n",
    "# next line is only for this notebook, do not include this in your python files\n",
    "%matplotlib inline \n",
    "print plotmesh.__doc__\n",
    "plotmesh()"
   ]
  },
  {
   "cell_type": "markdown",
   "metadata": {},
   "source": [
    "### Plot a 2-D (mesh size) Quantity"
   ]
  },
  {
   "cell_type": "code",
   "execution_count": null,
   "metadata": {
    "scrolled": false
   },
   "outputs": [],
   "source": [
    "from uedge.uedgeplots import *\n",
    "import warnings\n",
    "warnings.filterwarnings(\"ignore\") # ignore warnings for this notebook\n",
    "# next line is only for this notebook, do not include this in your python files\n",
    "%matplotlib inline\n",
    "print plotmeshval.__doc__\n",
    "print bbb.tis.shape\n",
    "plotmeshval(bbb.tis,title='Ion temperature')"
   ]
  },
  {
   "cell_type": "markdown",
   "metadata": {},
   "source": [
    "### Plot a 1-D Profile"
   ]
  },
  {
   "cell_type": "code",
   "execution_count": null,
   "metadata": {
    "scrolled": false
   },
   "outputs": [],
   "source": [
    "from uedge.uedgeplots import *\n",
    "import warnings\n",
    "warnings.filterwarnings(\"ignore\") # ignore warnings for this notebook\n",
    "# next line is only for this notebook, do not include this in your python files\n",
    "%matplotlib inline\n",
    "bbb.plateflux()\n",
    "print profile.__doc__\n",
    "#\n",
    "#  Run in python these two traces will be on the same plot\n",
    "#\n",
    "profile(com.yyrb,1.e-6*(bbb.sdtrb+bbb.sdrrb),\n",
    "        title=\"Outer Particle+radiation heat flux\", \n",
    "        xlabel=\"Distance along outer plate (m)\", \n",
    "        ylabel=\"Heat flux [MW/m**2]\",\n",
    "        figsize=(6,2),style='ro-'\n",
    "    )"
   ]
  },
  {
   "cell_type": "markdown",
   "metadata": {},
   "source": [
    "### Misc Plots - uncomment and run cell"
   ]
  },
  {
   "cell_type": "code",
   "execution_count": null,
   "metadata": {
    "scrolled": true
   },
   "outputs": [],
   "source": [
    "#******************************************************************\n",
    "#For details of generic plot options, see https::/matplotlib.org/\n",
    "#******************************************************************\n",
    "#\n",
    "#---------------------------------------------------------------------\n",
    "#First, be sure you have loaded uedgeplots within an ipython session:\n",
    "#---------------------------------------------------------------------\n",
    "\n",
    "from uedge.uedgeplots import *\n",
    "import warnings\n",
    "warnings.filterwarnings(\"ignore\") # ignore warnings for this notebook\n",
    "# next line is only for this notebook, do not include this in your python files\n",
    "%matplotlib inline \n",
    "\n",
    "#=======\n",
    "#Plotting profiles on outer divertor plate:\n",
    "#=======\n",
    "\n",
    "profile(com.yyrb,bbb.ne[com.nx,],title=\"Electron density\", xlabel=\"Distance along outer plate (m)\", ylabel=\"ne(1/m**3)\",figsize=(6,2))\n",
    "\n",
    "#profile(com.yyrb,bbb.ng[com.nx,],title=\"Hydrogen atom density\", xlabel=\"Distance along outer plate (m)\", ylabel=\"ng(1/m**3)\",figsize=(6,2))\n",
    "\n",
    "#profile(com.yyrb,bbb.te[com.nx,]/bbb.ev,title=\"Electron temperature\", xlabel=\"Distance along outer plate (m)\", ylabel=\"Te (eV)\",figsize=(6,2))\n",
    "\n",
    "#profile(com.yyrb,bbb.ti[com.nx,]/bbb.ev,title=\"Ion temperature\", xlabel=\"Distance along outer plate (m)\", ylabel=\"Ti (eV)\",figsize=(6,2))\n",
    "\n",
    "#profile(com.yyrb,bbb.feex[com.nx,],title=\"Electron thermal heat flux *area\", xlabel=\"Distance along outer plate (m)\", ylabel=\"feex\",figsize=(6,2))\n",
    "\n",
    "#profile(com.yyrb,bbb.feix[com.nx,],title=\"Ion/atom thermal heat flux *area\", xlabel=\"Distance along outer plate (m)\", ylabel=\"feix\",figsize=(6,2))\n",
    "\n",
    "# To plot the total heat flux on the outer divertor:\n",
    "#bbb.plateflux()\n",
    "#profile(com.yyrb,1.e-6*(bbb.sdtrb+bbb.sdrrb),title=\"Particle+radiation heat flux\", xlabel=\"Distance along outer plate (m)\", ylabel=\"Heat flux [MW/m**2]\",figsize=(6,2))\n",
    "\n",
    "#=======\n",
    "#Plotting profiles on inner divertor plate:\n",
    "#=======\n",
    "\n",
    "#profile(com.yylb,bbb.ne[0,],title=\"Electron density\", xlabel=\"Distance along inner plate (m)\", ylabel=\"ne (1/m**3)\",figsize=(6,2))\n",
    "\n",
    "#profile(com.yylb,bbb.ng[0,],title=\"Hydrogen atom density\", xlabel=\"Distance along inner plate (m)\", ylabel=\"ng(1/m**3)\",figsize=(6,2))\n",
    "\n",
    "#profile(com.yylb,bbb.te[0,]/bbb.ev,title=\"Electron temperature\", xlabel=\"Distance along inner plate (m)\", ylabel=\"Te (eV)\",figsize=(6,2))\n",
    "\n",
    "#profile(com.yylb,bbb.ti[0,]/bbb.ev,title=\"Ion temperature\", xlabel=\"Distance along inner plate (m)\", ylabel=\"Ti (eV)\",figsize=(6,2))\n",
    "\n",
    "#profile(com.yylb,-bbb.feex[0,],title=\"Electron thermal heat flux *area\", xlabel=\"Distance along inner plate (m)\", ylabel=\"feex\",figsize=(6,2))\n",
    "\n",
    "#profile(com.yylb,-bbb.feix[0,],title=\"Ion/atom thermal heat flux *area\", xlabel=\"Distance along inner plate (m)\", ylabel=\"feix\",figsize=(6,2))\n",
    "\n",
    "# To plot the total heat flux on the inner divertor:\n",
    "#bbb.plateflux()\n",
    "#profile(com.yylb,1.e-6*(bbb.sdtlb+bbb.sdrlb),title=\"Particle+radiation heat flux\", xlabel=\"Distance along inner plate (m)\", ylabel=\"Heat flux [MW/m**2]\",figsize=(6,2))\n",
    "\n",
    "\n",
    "#=======\n",
    "#Plotting midplane profiles:\n",
    "#=======\n",
    "\n",
    "#profile(com.yylb,bbb.ne[bbb.ixmp,],title=\"Electron density at midplane\", xlabel=\"Distance from separatrix (m)\", ylabel=\"ne (1/m**3)\",figsize=(6,2))\n",
    "\n",
    "#profile(com.yylb,bbb.ng[bbb.ixmp,],title=\"Hydrogen atom density at midplane\", xlabel=\"Distance from separatrix (m)\", ylabel=\"ng(1/m**3)\",figsize=(6,2))\n",
    "\n",
    "#profile(com.yylb,bbb.te[bbb.ixmp,]/bbb.ev,title=\"Electron temperature at midplane\", xlabel=\"Distance from separatrix (m)\", ylabel=\"Te (eV)\",figsize=(6,2))\n",
    "\n",
    "#profile(com.yylb,bbb.ti[bbb.ixmp,]/bbb.ev,title=\"Ion temperature at midplane\", xlabel=\"Distance from separatrix (m)\", ylabel=\"Ti (eV)\",figsize=(6,2))\n",
    "\n",
    "\n"
   ]
  }
 ],
 "metadata": {
  "kernelspec": {
   "display_name": "Python 2",
   "language": "python",
   "name": "python2"
  },
  "language_info": {
   "codemirror_mode": {
    "name": "ipython",
    "version": 2
   },
   "file_extension": ".py",
   "mimetype": "text/x-python",
   "name": "python",
   "nbconvert_exporter": "python",
   "pygments_lexer": "ipython2",
   "version": "2.7.16"
  }
 },
 "nbformat": 4,
 "nbformat_minor": 2
}
